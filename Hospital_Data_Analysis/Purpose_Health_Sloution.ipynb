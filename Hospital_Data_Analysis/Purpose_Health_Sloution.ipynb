{
 "cells": [
  {
   "cell_type": "code",
   "execution_count": 1,
   "id": "11960782",
   "metadata": {},
   "outputs": [],
   "source": [
    "# Import necessary libraries\n",
    "import sqlite3\n",
    "import pandas as pd"
   ]
  },
  {
   "cell_type": "markdown",
   "id": "c69bfa69",
   "metadata": {},
   "source": [
    "## 1. Load the xls files in the notebook as a dataframe\n"
   ]
  },
  {
   "cell_type": "code",
   "execution_count": 2,
   "id": "384607c3",
   "metadata": {},
   "outputs": [],
   "source": [
    "df = pd.read_excel('C:/Users/Sumit/Downloads/Rates_DF_Example.xls')"
   ]
  },
  {
   "cell_type": "markdown",
   "id": "b536a4fd",
   "metadata": {},
   "source": [
    "##  2. Perform data cleaning and any descriptive statistics as you see necessary"
   ]
  },
  {
   "cell_type": "code",
   "execution_count": 3,
   "id": "0c6d8069",
   "metadata": {},
   "outputs": [
    {
     "name": "stdout",
     "output_type": "stream",
     "text": [
      "<class 'pandas.core.frame.DataFrame'>\n",
      "RangeIndex: 10754 entries, 0 to 10753\n",
      "Data columns (total 4 columns):\n",
      " #   Column                    Non-Null Count  Dtype  \n",
      "---  ------                    --------------  -----  \n",
      " 0   service_code              10754 non-null  int64  \n",
      " 1   service_code_description  10754 non-null  object \n",
      " 2   hospital_ID               10754 non-null  object \n",
      " 3   cost                      10754 non-null  float64\n",
      "dtypes: float64(1), int64(1), object(2)\n",
      "memory usage: 336.2+ KB\n"
     ]
    }
   ],
   "source": [
    "df.info()"
   ]
  },
  {
   "cell_type": "code",
   "execution_count": 4,
   "id": "e497a8da",
   "metadata": {},
   "outputs": [
    {
     "data": {
      "text/html": [
       "<div>\n",
       "<style scoped>\n",
       "    .dataframe tbody tr th:only-of-type {\n",
       "        vertical-align: middle;\n",
       "    }\n",
       "\n",
       "    .dataframe tbody tr th {\n",
       "        vertical-align: top;\n",
       "    }\n",
       "\n",
       "    .dataframe thead th {\n",
       "        text-align: right;\n",
       "    }\n",
       "</style>\n",
       "<table border=\"1\" class=\"dataframe\">\n",
       "  <thead>\n",
       "    <tr style=\"text-align: right;\">\n",
       "      <th></th>\n",
       "      <th>service_code</th>\n",
       "      <th>service_code_description</th>\n",
       "      <th>hospital_ID</th>\n",
       "      <th>cost</th>\n",
       "    </tr>\n",
       "  </thead>\n",
       "  <tbody>\n",
       "    <tr>\n",
       "      <th>0</th>\n",
       "      <td>29870</td>\n",
       "      <td>Knee surgery</td>\n",
       "      <td>1003820630</td>\n",
       "      <td>1432.34</td>\n",
       "    </tr>\n",
       "    <tr>\n",
       "      <th>1</th>\n",
       "      <td>29870</td>\n",
       "      <td>Knee surgery</td>\n",
       "      <td>1003820630</td>\n",
       "      <td>1016.51</td>\n",
       "    </tr>\n",
       "    <tr>\n",
       "      <th>2</th>\n",
       "      <td>29850</td>\n",
       "      <td>Hip Surgery</td>\n",
       "      <td>1003820630</td>\n",
       "      <td>1519.18</td>\n",
       "    </tr>\n",
       "    <tr>\n",
       "      <th>3</th>\n",
       "      <td>29850</td>\n",
       "      <td>Hip Surgery</td>\n",
       "      <td>1003820630</td>\n",
       "      <td>1519.18</td>\n",
       "    </tr>\n",
       "    <tr>\n",
       "      <th>4</th>\n",
       "      <td>22818</td>\n",
       "      <td>Covid Vaccine</td>\n",
       "      <td>1003820630</td>\n",
       "      <td>5402.73</td>\n",
       "    </tr>\n",
       "    <tr>\n",
       "      <th>5</th>\n",
       "      <td>22818</td>\n",
       "      <td>Covid Vaccine</td>\n",
       "      <td>1003820630</td>\n",
       "      <td>5402.73</td>\n",
       "    </tr>\n",
       "    <tr>\n",
       "      <th>6</th>\n",
       "      <td>29870</td>\n",
       "      <td>Knee surgery</td>\n",
       "      <td>1013970078</td>\n",
       "      <td>1432.34</td>\n",
       "    </tr>\n",
       "    <tr>\n",
       "      <th>7</th>\n",
       "      <td>29870</td>\n",
       "      <td>Knee surgery</td>\n",
       "      <td>1013970078</td>\n",
       "      <td>1016.51</td>\n",
       "    </tr>\n",
       "    <tr>\n",
       "      <th>8</th>\n",
       "      <td>29850</td>\n",
       "      <td>Hip Surgery</td>\n",
       "      <td>1013970078</td>\n",
       "      <td>1519.18</td>\n",
       "    </tr>\n",
       "    <tr>\n",
       "      <th>9</th>\n",
       "      <td>29850</td>\n",
       "      <td>Hip Surgery</td>\n",
       "      <td>1013970078</td>\n",
       "      <td>1519.18</td>\n",
       "    </tr>\n",
       "  </tbody>\n",
       "</table>\n",
       "</div>"
      ],
      "text/plain": [
       "   service_code service_code_description hospital_ID     cost\n",
       "0         29870             Knee surgery  1003820630  1432.34\n",
       "1         29870             Knee surgery  1003820630  1016.51\n",
       "2         29850              Hip Surgery  1003820630  1519.18\n",
       "3         29850              Hip Surgery  1003820630  1519.18\n",
       "4         22818            Covid Vaccine  1003820630  5402.73\n",
       "5         22818            Covid Vaccine  1003820630  5402.73\n",
       "6         29870             Knee surgery  1013970078  1432.34\n",
       "7         29870             Knee surgery  1013970078  1016.51\n",
       "8         29850              Hip Surgery  1013970078  1519.18\n",
       "9         29850              Hip Surgery  1013970078  1519.18"
      ]
     },
     "execution_count": 4,
     "metadata": {},
     "output_type": "execute_result"
    }
   ],
   "source": [
    "df.head(10)"
   ]
  },
  {
   "cell_type": "code",
   "execution_count": 5,
   "id": "29c5b934",
   "metadata": {},
   "outputs": [
    {
     "data": {
      "text/plain": [
       "service_code                0\n",
       "service_code_description    0\n",
       "hospital_ID                 0\n",
       "cost                        0\n",
       "dtype: int64"
      ]
     },
     "execution_count": 5,
     "metadata": {},
     "output_type": "execute_result"
    }
   ],
   "source": [
    "# To check if there is any Null values\n",
    "df.isna().sum()"
   ]
  },
  {
   "cell_type": "code",
   "execution_count": 6,
   "id": "83bb8d90",
   "metadata": {},
   "outputs": [
    {
     "data": {
      "text/plain": [
       "count    10754.000000\n",
       "mean      1769.371624\n",
       "std       1632.969857\n",
       "min        351.220000\n",
       "25%        701.460000\n",
       "50%       1002.290000\n",
       "75%       2501.200000\n",
       "max      20843.360000\n",
       "Name: cost, dtype: float64"
      ]
     },
     "execution_count": 6,
     "metadata": {},
     "output_type": "execute_result"
    }
   ],
   "source": [
    "# Statistics of the Cost column Data\n",
    "df['cost'].describe()"
   ]
  },
  {
   "cell_type": "markdown",
   "id": "ae5c3fe8",
   "metadata": {},
   "source": [
    "## 3. Write a python function to calculate ranking of hospitals for each procedure code and identify costliest and cheapest hospital ID for each of the service code\n"
   ]
  },
  {
   "cell_type": "code",
   "execution_count": 8,
   "id": "153fd4db",
   "metadata": {},
   "outputs": [
    {
     "name": "stdout",
     "output_type": "stream",
     "text": [
      "Costliest Hospitals:\n",
      "      service_code hospital_ID      cost\n",
      "1546         22818  20-8624691  20843.36\n",
      "1544         29850  20-8624691   6074.44\n",
      "1542         29870  20-8624691   5691.52\n",
      "Cheapest Hospitals:\n",
      "      service_code hospital_ID     cost\n",
      "1476         29870  20-8075502   351.22\n",
      "1477         29870  20-8075502   351.22\n",
      "1478         29850  20-8075502   470.02\n",
      "1479         29850  20-8075502   470.02\n",
      "6413         22818  27-1145142  1875.90\n"
     ]
    }
   ],
   "source": [
    "# \n",
    "def calculate_hospital_ranking(df):\n",
    "    # Find the index of the maximum cost for each service code\n",
    "    max_cost_indices = df.groupby('service_code')['cost'].idxmax()\n",
    "    \n",
    "    # Get the corresponding rows using the indices\n",
    "    costliest_hospitals = df.loc[max_cost_indices]\n",
    "    \n",
    "    # Group by service_code and rank hospitals based on cost\n",
    "    df['rank'] = df.groupby('service_code')['cost'].rank(ascending=False)\n",
    "    \n",
    "    # find cheapest hospitals for each service_code\n",
    "    cheapest_hospitals = df[df['rank'] == df.groupby('service_code')['rank'].transform('max')]\n",
    "    \n",
    "    return costliest_hospitals , cheapest_hospitals\n",
    "\n",
    "# Identify costliest hospitals\n",
    "costliest_hospitals , cheapest_hospitals = calculate_hospital_ranking(df)\n",
    "\n",
    "# Print the results\n",
    "print(\"Costliest Hospitals:\")\n",
    "print(costliest_hospitals[['service_code', 'hospital_ID', 'cost']])\n",
    "\n",
    "print(\"Cheapest Hospitals:\")\n",
    "print(cheapest_hospitals[['service_code', 'hospital_ID', 'cost']])\n"
   ]
  },
  {
   "cell_type": "markdown",
   "id": "65b79200",
   "metadata": {},
   "source": [
    "## 4. Create an SQlite database and load the xls file in to the SQlite database\n"
   ]
  },
  {
   "cell_type": "code",
   "execution_count": 9,
   "id": "c4fbf8b7",
   "metadata": {},
   "outputs": [
    {
     "name": "stdout",
     "output_type": "stream",
     "text": [
      "XLS data loaded into SQLite database successfully.\n"
     ]
    }
   ],
   "source": [
    "# Path to the XLS file\n",
    "xls_file_path = 'C:/Users/Sumit/Downloads/Rates_DF_Example.xls'\n",
    "\n",
    "# Read the XLS file using pandas\n",
    "xls_data = pd.read_excel(xls_file_path)\n",
    "\n",
    "# Create a connection to the SQLite database \n",
    "db_connection = sqlite3.connect('example.db')\n",
    "\n",
    "# Convert the data to a SQLite database table\n",
    "xls_data.to_sql('rates_data', db_connection, if_exists='replace', index=False)\n",
    "\n",
    "print(\"XLS data loaded into SQLite database successfully.\")\n"
   ]
  },
  {
   "cell_type": "markdown",
   "id": "fdd8f27b",
   "metadata": {},
   "source": [
    "## 5. Write an SQL query to calculate mean and standard deviation of the cost across each service code. \n"
   ]
  },
  {
   "cell_type": "code",
   "execution_count": 10,
   "id": "49d4a134",
   "metadata": {},
   "outputs": [
    {
     "name": "stdout",
     "output_type": "stream",
     "text": [
      "Service Code: 22818, Mean Cost: 3510.2164387385487, Standard Deviation: 1717.3378553213065\n",
      "Service Code: 29850, Mean Cost: 971.4395021097149, Standard Deviation: 493.6001521488956\n",
      "Service Code: 29870, Mean Cost: 828.8853733406972, Standard Deviation: 504.4764862143422\n"
     ]
    }
   ],
   "source": [
    "import math\n",
    "# Create a connection to the SQLite database\n",
    "db_connection = sqlite3.connect('example.db')\n",
    "cursor = db_connection.cursor()\n",
    "\n",
    "# Calculate mean cost for each service code\n",
    "mean_query = \"\"\"\n",
    "SELECT\n",
    "    service_code,\n",
    "    AVG(cost) AS mean_cost\n",
    "FROM\n",
    "    rates_data\n",
    "GROUP BY\n",
    "    service_code;\n",
    "\"\"\"\n",
    "\n",
    "cursor.execute(mean_query)\n",
    "mean_results = cursor.fetchall()\n",
    "\n",
    "# Calculate standard deviation for each service code\n",
    "std_dev_query = \"\"\"\n",
    "SELECT\n",
    "    service_code,\n",
    "    cost\n",
    "FROM\n",
    "    rates_data;\n",
    "\"\"\"\n",
    "\n",
    "cursor.execute(std_dev_query)\n",
    "std_dev_results = cursor.fetchall()\n",
    "\n",
    "# Calculate mean squared differences\n",
    "mean_squared_diff = {}\n",
    "for service_code, cost in std_dev_results:\n",
    "    if service_code not in mean_squared_diff:\n",
    "        mean_squared_diff[service_code] = []\n",
    "    mean_cost = next(item[1] for item in mean_results if item[0] == service_code)\n",
    "    mean_squared_diff[service_code].append((cost - mean_cost) ** 2)\n",
    "\n",
    "# Calculate standard deviation\n",
    "std_deviation = {}\n",
    "for service_code, squared_diff_list in mean_squared_diff.items():\n",
    "    mean_squared_diff_sum = sum(squared_diff_list)\n",
    "    std_deviation[service_code] = math.sqrt(mean_squared_diff_sum / len(squared_diff_list))\n",
    "\n",
    "# Print mean and standard deviation for each service code\n",
    "for item in mean_results:\n",
    "    service_code = item[0]\n",
    "    mean_cost = item[1]\n",
    "    std_dev_cost = std_deviation.get(service_code, 0)  # If service code has no standard deviation data, use 0\n",
    "    print(f\"Service Code: {service_code}, Mean Cost: {mean_cost}, Standard Deviation: {std_dev_cost}\")\n",
    "\n",
    "# Close the connection\n",
    "db_connection.close()\n"
   ]
  },
  {
   "cell_type": "code",
   "execution_count": null,
   "id": "757f8ae7",
   "metadata": {},
   "outputs": [],
   "source": []
  }
 ],
 "metadata": {
  "kernelspec": {
   "display_name": "Python 3",
   "language": "python",
   "name": "python3"
  },
  "language_info": {
   "codemirror_mode": {
    "name": "ipython",
    "version": 3
   },
   "file_extension": ".py",
   "mimetype": "text/x-python",
   "name": "python",
   "nbconvert_exporter": "python",
   "pygments_lexer": "ipython3",
   "version": "3.9.12"
  }
 },
 "nbformat": 4,
 "nbformat_minor": 5
}
